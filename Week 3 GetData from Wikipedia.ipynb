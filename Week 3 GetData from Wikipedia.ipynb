{
 "cells": [
  {
   "cell_type": "code",
   "execution_count": 3,
   "metadata": {},
   "outputs": [
    {
     "name": "stdout",
     "output_type": "stream",
     "text": [
      "Collecting geopy\n",
      "  Downloading geopy-1.22.0-py2.py3-none-any.whl (113 kB)\n",
      "Collecting geographiclib<2,>=1.49\n",
      "  Downloading geographiclib-1.50-py3-none-any.whl (38 kB)\n",
      "Installing collected packages: geographiclib, geopy\n",
      "Successfully installed geographiclib-1.50 geopy-1.22.0\n",
      "Note: you may need to restart the kernel to use updated packages.\n"
     ]
    }
   ],
   "source": [
    "pip install geopy"
   ]
  },
  {
   "cell_type": "code",
   "execution_count": 1,
   "metadata": {},
   "outputs": [],
   "source": [
    "import numpy as np\n",
    "\n",
    "import pandas as pd \n",
    "pd.set_option('display.max_columns', None)\n",
    "pd.set_option('display.max_rows', None)\n",
    "import json\n",
    "\n",
    "from geopy.geocoders import Nominatim \n",
    "import requests \n",
    "from pandas.io.json import json_normalize \n",
    "import matplotlib.cm as cm\n",
    "import matplotlib.colors as colors\n",
    "\n",
    "from sklearn.cluster import KMeans\n",
    "from bs4 import BeautifulSoup\n",
    "import xml\n",
    "import folium"
   ]
  },
  {
   "cell_type": "code",
   "execution_count": 2,
   "metadata": {},
   "outputs": [],
   "source": [
    "url = requests.get('https://en.wikipedia.org/wiki/List_of_postal_codes_of_Canada:_M').text\n",
    "soup = BeautifulSoup(url,'lxml')"
   ]
  },
  {
   "cell_type": "code",
   "execution_count": 4,
   "metadata": {},
   "outputs": [
    {
     "data": {
      "text/plain": [
       "(103, 3)"
      ]
     },
     "execution_count": 4,
     "metadata": {},
     "output_type": "execute_result"
    }
   ],
   "source": [
    "table_post = soup.find('table')\n",
    "fields = table_post.find_all('td')\n",
    "\n",
    "postcode = []\n",
    "borough = []\n",
    "neighbourhood = []\n",
    "\n",
    "for i in range(0, len(fields), 3):\n",
    "    postcode.append(fields[i].text.strip())\n",
    "    borough.append(fields[i+1].text.strip())\n",
    "    neighbourhood.append(fields[i+2].text.strip())\n",
    "        \n",
    "df_pc = pd.DataFrame(data=[postcode, borough, neighbourhood]).transpose()\n",
    "df_pc.columns = ['Postcode', 'Borough', 'Neighbourhood']\n",
    "df_pc['Borough'].replace('Not assigned', np.nan, inplace=True)\n",
    "df_pc.dropna(subset=['Borough'], inplace=True)\n",
    "df_pcn = df_pc.groupby(['Postcode', 'Borough'])['Neighbourhood'].apply(', '.join).reset_index()\n",
    "df_pcn.columns = ['Postcode', 'Borough', 'Neighbourhood']\n",
    "df_pcn['Neighbourhood'].replace('Not assigned', \"Queen's Park\", inplace=True)\n",
    "df_pcn.shape"
   ]
  },
  {
   "cell_type": "code",
   "execution_count": null,
   "metadata": {},
   "outputs": [],
   "source": []
  }
 ],
 "metadata": {
  "kernelspec": {
   "display_name": "Python 3",
   "language": "python",
   "name": "python3"
  },
  "language_info": {
   "codemirror_mode": {
    "name": "ipython",
    "version": 3
   },
   "file_extension": ".py",
   "mimetype": "text/x-python",
   "name": "python",
   "nbconvert_exporter": "python",
   "pygments_lexer": "ipython3",
   "version": "3.7.6"
  }
 },
 "nbformat": 4,
 "nbformat_minor": 4
}
